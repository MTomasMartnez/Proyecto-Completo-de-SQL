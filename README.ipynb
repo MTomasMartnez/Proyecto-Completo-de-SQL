{
  "nbformat": 4,
  "nbformat_minor": 0,
  "metadata": {
    "colab": {
      "provenance": []
    },
    "kernelspec": {
      "name": "python3",
      "display_name": "Python 3"
    },
    "language_info": {
      "name": "python"
    }
  },
  "cells": [
    {
      "cell_type": "markdown",
      "source": [
        "Antes que nada muchas gracias por su tiempo...\n",
        "\n",
        "\n",
        "\n",
        "\n"
      ],
      "metadata": {
        "id": "-w_cE0A-1rtd"
      }
    },
    {
      "cell_type": "markdown",
      "source": [
        "# **Proyecto Completo de SQL**\n"
      ],
      "metadata": {
        "id": "TykP7_NI2hx6"
      }
    },
    {
      "cell_type": "markdown",
      "source": [
        "Por favor dirigirse a los link de los notebook es importante ya que ahi se encuentra todo el proyecto de principio a fin:\n",
        "\n",
        "**1- Proyecto Completo** (https://github.com/MTomasMartnez/Proyecto-Completo-de-SQL/blob/main/Proyecto_SQL_Completo.ipynb)\n",
        "\n",
        "**2- Analisis con Python:** https://github.com/MTomasMartnez/Proyecto-Completo-de-SQL/blob/main/Analisis%20de%20la%20base%20de%20datos%20con%20Python.ipynb"
      ],
      "metadata": {
        "id": "UyIG_e9f4bzD"
      }
    },
    {
      "cell_type": "markdown",
      "source": [
        "En este repositorio quise llevar a cabo un proyecto de SQL de principio a fin de la manera más completa, en donde pase por el repaso de algunos conceptos y aprendi muchos otros.\n",
        "\n",
        "Los conceptos que pude alcanzar con mis proyecto son:\n",
        "\n",
        "+ Creacion de una empresa fiticia para el desarrollo del Proyecto\n",
        "+ Modelado\n",
        "+ Creacion de la Base de Datos con sus Tablas\n",
        "+ Insercion de Registros\n",
        "+ Consultas de Nivel Basico, Intermedio y Avanzado\n",
        "+ Funciones Avanzadas, tales como:\n",
        "      + Index\n",
        "      + View\n",
        "      + Stored Procedure\n",
        "      + Trigger\n",
        "      + Transacciones\n",
        "      + Roles de Usuarios\n",
        "      + Concurrencia\n",
        "\n",
        "+ Conexiones con Python\n",
        "+ Analisis de Datos desde Python con Graficos utilizando Pandas,Matplotlib y Seaborn\n"
      ],
      "metadata": {
        "id": "AUHriHl_2qVn"
      }
    }
  ]
}